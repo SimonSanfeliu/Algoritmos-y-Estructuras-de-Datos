{
  "nbformat": 4,
  "nbformat_minor": 0,
  "metadata": {
    "kernelspec": {
      "display_name": "Python 3",
      "language": "python",
      "name": "python3"
    },
    "language_info": {
      "codemirror_mode": {
        "name": "ipython",
        "version": 3
      },
      "file_extension": ".py",
      "mimetype": "text/x-python",
      "name": "python",
      "nbconvert_exporter": "python",
      "pygments_lexer": "ipython3",
      "version": "3.7.1"
    },
    "colab": {
      "name": "Copy of Tarea6.ipynb",
      "provenance": [],
      "include_colab_link": true
    }
  },
  "cells": [
    {
      "cell_type": "markdown",
      "metadata": {
        "id": "view-in-github",
        "colab_type": "text"
      },
      "source": [
        "<a href=\"https://colab.research.google.com/github/SimonSanfeliu/Algoritmos-y-Estructuras-de-Datos/blob/master/Copy_of_Tarea6.ipynb\" target=\"_parent\"><img src=\"https://colab.research.google.com/assets/colab-badge.svg\" alt=\"Open In Colab\"/></a>"
      ]
    },
    {
      "cell_type": "markdown",
      "metadata": {
        "id": "oI4yT_8ERcDK",
        "colab_type": "text"
      },
      "source": [
        "# CC3001 Otoño 2020 Tarea 6\n",
        "\n",
        "## Árboles 2-3\n",
        "\n",
        "Profesores: Sección 1 Patricio Poblete / Sección 2 Nelson Baloian\n",
        "\n",
        "Plazo: Lunes 20 de julio de 2020 a las 23:59"
      ]
    },
    {
      "cell_type": "markdown",
      "metadata": {
        "id": "U-xBuiMRRcDN",
        "colab_type": "text"
      },
      "source": [
        "El objetivo de esta tarea es que usted implemente árboles 2-3. Si ve en el apunte, para los árboles AVL aparece la implementación, pero no así para los árboles 2-3. Usted debe ayudar a completar el apunte y si lo hace bien, es posible que en el futuro aparezca su código en este capítulo.\n",
        "\n",
        "A continuación aparece algo de código para ayudarlo a partir. Hay dos tipos de nodos internos (``Nodo2`` y ``Nodo3``), según si ese nodo es binario o ternario, y un tipo de nodo externo u hoja (``Nodoe``). Además, está la clase ``Arbol23``, que es el punto de partida. Las operaciones que usted tiene que implementar son ``insert`` y ``search``.\n",
        "\n",
        "En varias partes se ha rellenado con código provisorio, para que compile. Usted debe reemplazar y completar todo lo que sea necesario para que todo funcione.\n",
        "\n",
        "El código esbozado más abajo está orientado a una implementación recursiva, la que podemos describir de la siguiente manera:\n",
        "\n",
        "* Si se inserta una llave en un nodo binario, hay que insertarla recursivamente en el hijo izquierdo o en el derecho, según corresponda. Si esto no produce un *split* del hijo, el resultado es un puntero al nodo resultante (que puede ser binario o ternario), lo cual se anota en el lugar respectivo y se retorna un puntero al nodo resultante. Pero si el hijo se divide, se recibe el resultado que es una tupla que contiene el árbol izquierdo, el árbol derecho, y la llave que los separa. Con esto este nodo tiene la información para mutar a ternario y retornar el resultado.\n",
        "\n",
        "* Si se inserta una llave en un nodo ternario hay que insertarla recursivamente en el hijo izquierdo, en el del medio o en el derecho, según corresponda. Si esto no produce un *split* del hijo, el resultado es un puntero al nodo resultante (que puede ser binario o ternario), lo cual se anota en el lugar respectivo y se retorna un puntero al nodo resultante. Pero si el hijo se divide, se recibe el resultado que es una tupla que contiene el árbol izquierdo, el árbol derecho, y la llave que los separa. Con esto este nodo tiene la información para a su vez dividirse y retornar la tupla resultante.\n",
        "\n",
        "* Lo anterior permite modelar de la misma manera la inserción en una hoja: al recibir una llave, se divide en dos hojas, y la llave entrante las separa. Esto se retorna hacia arriba en la forma de una tupla y se la da el mismo tratamiento anterior.\n",
        "\n",
        "* En la clase ``Arbol23`` hay que estar preparado para recibir una tupla como resultado de la inserción, lo cual indicaría que la raíz se dividió. En ese caso, hay que crear nodo binario para que sea la nueva raíz.\n",
        "\n",
        "La operación de búsqueda (``search``) debe retornar un puntero al nodo que contiene la llave buscada, en caso de ser exitosa, o ``None`` si es infructuosa."
      ]
    },
    {
      "cell_type": "code",
      "metadata": {
        "id": "nxsGXBsERcDP",
        "colab_type": "code",
        "colab": {}
      },
      "source": [
        "class Nodo2:\n",
        "    def __init__(self, izq, info, der):\n",
        "        self.izq=izq\n",
        "        self.info=info\n",
        "        self.der=der\n",
        "        \n",
        "    def insert(self,x):\n",
        "        return None # Aquí hay que retornar el resultado de insertar x a partir de este punto\n",
        "    \n",
        "    def search(self,x):\n",
        "        return None # Aquí hay que retornar el resultado de buscar x a partir de este punto\n",
        "                    # Esto puede ser un puntero al nodo en donde está x, o None si no está\n",
        "        \n",
        "    def string(self):\n",
        "        return (\"(\"+self.izq.string()\n",
        "                +str(self.info)\n",
        "                +self.der.string()+\")\")\n",
        "\n",
        "class Nodo3:\n",
        "    def __init__(self, izq, info1, med, info2, der):\n",
        "        self.izq=izq\n",
        "        self.info1=info1\n",
        "        self.med=med\n",
        "        self.info2=info2\n",
        "        self.der=der\n",
        "        \n",
        "    def insert(self,x):\n",
        "        return None # Aquí hay que retornar el resultado de insertar x a partir de este punto\n",
        "    \n",
        "    def search(self,x):\n",
        "        return None # Aquí hay que retornar el resultado de buscar x a partir de este punto\n",
        "                    # Esto puede ser un puntero al nodo en donde está, o None si no está\n",
        "        \n",
        "    def string(self):\n",
        "        return (\"(\"+self.izq.string()\n",
        "                +str(self.info1)\n",
        "                +self.med.string()\n",
        "                +str(self.info2)\n",
        "                +self.der.string()+\")\")    \n",
        "    \n",
        "class Nodoe:\n",
        "    def __init__(self):\n",
        "        pass\n",
        "    \n",
        "    def insert(self,x): \n",
        "        return None # Aquí hay que retornar el resultado de insertar x a partir de este punto\n",
        "    \n",
        "    def string(self):\n",
        "        return\"☐\"\n",
        "\n",
        "class Arbol23:\n",
        "    def __init__(self,raiz=Nodoe()):\n",
        "        self.raiz=raiz     \n",
        "        \n",
        "    def insert(self,x):\n",
        "        self.raiz=self.raiz.insert(x)   # Esto funciona casi siempre, excepto cuando la antigua raíz se divide\n",
        "                                        # Usted tiene que poner algo que funcione siempre\n",
        "        \n",
        "    def search(self,x):\n",
        "        return self.raiz.search(x)\n",
        "    \n",
        "    def imprimir(self):        \n",
        "        print(self.raiz.string())"
      ],
      "execution_count": null,
      "outputs": []
    },
    {
      "cell_type": "markdown",
      "metadata": {
        "id": "DiLEIGrGRcDX",
        "colab_type": "text"
      },
      "source": [
        "Para probar este código, vamos a construir \"a mano\" el árbol 2-3 que aparece en el apunte, y luego imprimirlo:"
      ]
    },
    {
      "cell_type": "code",
      "metadata": {
        "id": "ihrbFTNsRcDY",
        "colab_type": "code",
        "colab": {}
      },
      "source": [
        "a=Nodo3(Nodo2(Nodoe(),10,Nodoe()),25,Nodo3(Nodoe(),32,Nodoe(),48,Nodoe()),57,Nodo2(Nodoe(),74,Nodoe()))"
      ],
      "execution_count": null,
      "outputs": []
    },
    {
      "cell_type": "code",
      "metadata": {
        "id": "92guaCaLRcDj",
        "colab_type": "code",
        "colab": {},
        "outputId": "c61dbd7b-8af2-48c6-d967-9a1b2da492af"
      },
      "source": [
        "print(a.string())"
      ],
      "execution_count": null,
      "outputs": [
        {
          "output_type": "stream",
          "text": [
            "((☐10☐)25(☐32☐48☐)57(☐74☐))\n"
          ],
          "name": "stdout"
        }
      ]
    },
    {
      "cell_type": "markdown",
      "metadata": {
        "id": "elWj8HAQRcDu",
        "colab_type": "text"
      },
      "source": [
        "Pruebe su código comenzando con un árbol vacío e insertando la siguiente secuencia de llaves:\n",
        "\n",
        "```\n",
        "3, 1, 4, 5, 9, 6, 2\n",
        "```\n",
        "\n",
        "Imprima el árbol resultante después de cada inserción. A continuación, busque \"2\", busque \"3\" y busque \"7\"."
      ]
    },
    {
      "cell_type": "markdown",
      "metadata": {
        "id": "RxhfwsDfRcDx",
        "colab_type": "text"
      },
      "source": [
        "## ¿Qué hay que entregar?\n",
        "\n",
        "Usted debe entregar este mismo archivo, modificado de acuerdo a lo que se pide. Haga todos los cambios necesarios para explicar y documentar adecuadamente su código. No olvide poner su nombre."
      ]
    },
    {
      "cell_type": "markdown",
      "metadata": {
        "id": "FaOAmZTBxbDi",
        "colab_type": "text"
      },
      "source": [
        "## Código modificado\n",
        "\n",
        "A continuación está el código pedido. En éste, lo que se hizo fue seguir estrictamente las reglas explicadas en el enunciado, agregándole ciertos criterios para el caso en que se llegara al final del árbol. Esto es, si es que en la inserción se llegaba a un nodo binario que tuviera hojas de hijos (se llega al último nivel del árbol donde hay llaves), entonces se debía transformar dicho nodo a uno ternario. Para el caso de un nodo ternario era más complejo, ya que para mantener la estructura del árbol 2-3 se debía crear un nodo binario con dos hijos binarios con la información respectiva (el *split* que se menciona en las instrucciones); el cual se retornaba en forma de tupla con el nodo binario izquierdo como el primer elemento de ésta, seguido del nodo derecho y finalmente la llave que los separa. \n",
        "\n",
        "Estos serían los casos base para cada una de las funciones de inserción de los nodos binarios y ternarios, en el que sólo basta checkear que uno de sus hijos sea una hoja, ya que los árboles 2-3 tienen la propiedad de que todas sus hojas deben estar en el mismo nivel; por lo que necesariamente los otros hijos también deben ser hojas. Para el caso de que un nodo interno, se debía primero ver si es que el resultado de la inserción del elemento resultaba en una tupla o en un nodo. Si era un nodo, se seguía normalmente con la recursión por el hijo correspondiente según la comparación de la llave del nodo y la que se desea insertar. Si era una tupla, se transforma en nodo según la función de inserción en la que se este: si es un nodo binario el que recibe la tupla, entonces se debe retornar un nodo ternario con la información de ésta (primer elemento como subárbol/hijo izquierdo, segundo como subárbol/hijo derecho y el último como la llave que se agrega a la del nodo binario interno); mientras que si es un nodo ternario el que recibe la tupla, se debe retornar un nodo binario con dos nodos binarios como hijos que contengan la información de los subárboles corespondientes. \n",
        "\n",
        "Para las hojas, con tal de seguir con este mismo proceso, se define la función inserción como una tupla compuesta por dos nodos externos como subárboles izquierdo y derecho, con la llave a insertar como el último elemento de ésta.\n",
        "\n",
        "Para la función search, el proceso era mucho más sencillo. Si es que el nodo (ya fuese binario o ternario) contenía la llave buscada, se retornaba un puntero a este nodo específico. Si es que no la contenía, se proseguía con la comparación de las llaves y se avanzaba en el árbol según estas comparaciones (si era menor, se revisaba a la izquierda, si era mayor, a la derecha y, en un ternario, si era mayor que la primera llave y menor que la segunda, se revisaba en el hijo del medio) hasta encontrarla. Si es que no se encontraba, se retornaba 'None', ya que eso signficaba que no estaba en el árbol. Si se llegaba a un nodo externo, entonces eso significaba que no la llave no estaba en el árbol, por lo que devolvía 'None' de la misma forma que las otras dos funciones.\n",
        "\n",
        "Con todo esto, se logra crear de manera exitosa las funciones de inserción y búsqueda para un árbol 2-3, cumpliendo todas sus características y tiempos de demora en sus respectivas funciones."
      ]
    },
    {
      "cell_type": "code",
      "metadata": {
        "id": "U92GvNh4xaVJ",
        "colab_type": "code",
        "colab": {}
      },
      "source": [
        "class Nodo2:\n",
        "    def __init__(self, izq, info, der):\n",
        "        self.izq=izq\n",
        "        self.info=info\n",
        "        self.der=der\n",
        "        \n",
        "    def insert(self,x):\n",
        "        if isinstance(self.izq, Nodoe): #Caso base: Si se llega a un nodo binario con sólo hojas, entonces se inserta la llave en éste,\n",
        "          if x > self.info:             #transformándolo en uno ternario. Se crea el nodo ternario según el valor de las llaves.\n",
        "            return Nodo3(self.izq,self.info,Nodoe(),x,self.der) \n",
        "          return Nodo3(self.izq,x,Nodoe(),self.info,self.der)\n",
        "        if x > self.info:\n",
        "          if isinstance(self.der.insert(x), tuple): #Paso recursivo de ser mayor que la llave del nodo binario. Se revisa qué resultado da la\n",
        "            d = self.der.insert(x)                  #inserción: Si es una tupla, se crea un nodo ternario con la información contenida en ésta.\n",
        "            if d[2] > self.info:                    #Si es un nodo, se prosigue con la recursión como tal.\n",
        "              return Nodo3(self.izq,self.info,d[0],d[2],d[1])\n",
        "            return Nodo3(self.izq,d[2],d[0],self.info,d[1])\n",
        "          return Nodo2(self.izq,self.info,self.der.insert(x)) \n",
        "        else:\n",
        "          if isinstance(self.izq.insert(x), tuple): #Paso recursivo de ser menor que la llave del nodo binario. Funciona de la misma manera que el\n",
        "            d = self.izq.insert(x)                  #caso anterior.\n",
        "            if d[2] > self.info:\n",
        "              return Nodo3(d[0],self.info,d[1],d[2],self.der)\n",
        "            return Nodo3(d[0],d[2],d[1],self.info,self.der)\n",
        "          return Nodo2(self.izq.insert(x),self.info,self.der)  \n",
        "    \n",
        "    def search(self,x):\n",
        "        if x == self.info: #Al encontrar la llave que se buscaba, se devuelve un puntero al nodo (y consecuente subárbol) que la contenga.\n",
        "          return self\n",
        "        elif x > self.info: \n",
        "          return self.der.search(x) #Paso recursivo de ser mayor que la llave del nodo binario.\n",
        "        elif x < self.info:\n",
        "          return self.izq.search(x) #Paso recrusivo de ser menor que la llave del nodo binario.\n",
        "        return None #Si la llave no está en el árbol, se retorna None.\n",
        "        \n",
        "    def string(self):\n",
        "        return (\"(\"+self.izq.string()\n",
        "                +str(self.info)\n",
        "                +self.der.string()+\")\")\n",
        "\n",
        "class Nodo3:\n",
        "    def __init__(self, izq, info1, med, info2, der):\n",
        "        self.izq=izq\n",
        "        self.info1=info1\n",
        "        self.med=med\n",
        "        self.info2=info2\n",
        "        self.der=der\n",
        "        \n",
        "    def insert(self,x):\n",
        "        d1 = self.info1\n",
        "        d2 = self.info2\n",
        "        if isinstance(self.izq, Nodoe):                                    #Caso base: Si es llega a un nodo ternario con sólo hojas, deben crearse \n",
        "          if x > d1 and x > d2:                                            #nodos binarios que mantengan la estructura del árbol; poniendo la                                                       \n",
        "            return (Nodo2(Nodoe(),d1,Nodoe()),Nodo2(Nodoe(),x,Nodoe()),d2) #\"mediana\" de las llaves como la raíz de este subárbol. Se retorna en                          \n",
        "          elif x > d1 and x < d2:                                          #forma de tupla, con el nodo binario con la clave menor (subárbol               \n",
        "            return (Nodo2(Nodoe(),d1,Nodoe()),Nodo2(Nodoe(),d2,Nodoe()),x) #izquierdo) primero, después el nodo con la clave menor (subárbol derecho)\n",
        "          return (Nodo2(Nodoe(),x,Nodoe()),Nodo2(Nodoe(),d2,Nodoe()),d1)   #y finalmente la clave que los separa.\n",
        "        if x > d1 and x > d2:\n",
        "          if isinstance(self.der.insert(x), tuple): #Paso recursivo si es que es mayor que ambas llaves. Se revisa qué resultado da la inserción: Si \n",
        "            j = self.der.insert(x)                  #es una tupla, se crean los nodos binarios que mantienen la estructura del árbol igual que en el\n",
        "            k = Nodo2(j[0],j[2],j[1])               #caso base con la información que traiga ésta. Si es un nodo, se prosigue con la recursión.\n",
        "            i = Nodo2(self.izq,d1,self.med)\n",
        "            return Nodo2(i,d2,k)\n",
        "          return Nodo3(self.izq,d1,self.med,d2,self.der.insert(x)) \n",
        "        elif x > d1 and x < d2:\n",
        "          if isinstance(self.med.insert(x), tuple): #Paso recursivo si es que es mayor que la primera llave pero menor que la segunda. Se sigue el \n",
        "            j = self.med.insert(x)                  #mismo proceso que antes.\n",
        "            i = Nodo2(self.izq,d1,j[0])\n",
        "            k = Nodo2(j[1],d2,self.der)\n",
        "            return Nodo2(i,j[2],k)\n",
        "          return Nodo3(self.izq,d1,self.med.insert(x),d2,self.der) \n",
        "        else:\n",
        "          if isinstance(self.izq.insert(x), tuple): #Paso recursivo si es que es menor que ambas llaves. Se sigue el mismo proceso que antes.\n",
        "            j = self.izq.insert(x)\n",
        "            k = Nodo2(j[0],j[2],j[1])\n",
        "            i = Nodo2(self.med,d2,self.der)\n",
        "            return Nodo2(k,d1,i)\n",
        "          return Nodo3(self.izq.insert(x),d1,self.med,d2,self.der)   \n",
        "    \n",
        "    def search(self,x):\n",
        "        d1 = self.info1\n",
        "        d2 = self.info2\n",
        "        if x == d1 or x == d2: #Al encontrar la llave que se buscaba, se devuelve un puntero al nodo (y consecuente subárbol) que la contenga.\n",
        "          return self\n",
        "        elif x > d1 and x > d2:\n",
        "          return self.der.search(x) #Paso recursivo si es que es mayor que ambas llaves.\n",
        "        elif x > d1 and x < d2: \n",
        "          return self.med.search(x) #Paso recursivo si es que es mayor que la primera llave pero menor que la segunda.\n",
        "        elif x < d1 and x < d2:\n",
        "          return self.izq.search(x) #Paso recursivo si es que es menor que ambas llaves.\n",
        "        return None #Si la llave no está en el árbol, se retorna None.\n",
        "        \n",
        "    def string(self):\n",
        "        return (\"(\"+self.izq.string()\n",
        "                +str(self.info1)\n",
        "                +self.med.string()\n",
        "                +str(self.info2)\n",
        "                +self.der.string()+\")\")    \n",
        "    \n",
        "class Nodoe:\n",
        "    def __init__(self):\n",
        "        pass\n",
        "    \n",
        "    def insert(self,x): \n",
        "        return (Nodoe(),Nodoe(),x) #Se retorna en forma de tupla para poder aplicar el mismo proceso que en los otros nodos.\n",
        "\n",
        "    def search(self,x):\n",
        "        return None #Se retorna None porque la llave nunca estará en una hoja. Si se llega hasta una hoja, es porque la llave no está en el árbol.\n",
        "    \n",
        "    def string(self):\n",
        "        return\"☐\"\n",
        "\n",
        "class Arbol23:\n",
        "    def __init__(self,raiz=Nodoe()):\n",
        "        self.raiz=raiz     \n",
        "        \n",
        "    def insert(self,x):\n",
        "        self.raiz = self.raiz.insert(x)  #Se van insertando constantemente las llaves en la raíz. Si la inserción resulta en que la raíz se\n",
        "        if isinstance(self.raiz, tuple): #transforme en una tupla, significa que se debe transforme ésta nuevamente en un nodo, con su primer término\n",
        "          d = self.raiz                  #como el subárbol izquierdo, el segundo como el subárbol derecho y el último como la llave que los separa.\n",
        "          self.raiz = Nodo2(d[0],d[2],d[1])\n",
        "        \n",
        "    def search(self,x):\n",
        "        return self.raiz.search(x)\n",
        "    \n",
        "    def imprimir(self):        \n",
        "        print(self.raiz.string())"
      ],
      "execution_count": 1,
      "outputs": []
    },
    {
      "cell_type": "markdown",
      "metadata": {
        "id": "JBoi10xNWYbu",
        "colab_type": "text"
      },
      "source": [
        "Prueba 1 del código."
      ]
    },
    {
      "cell_type": "code",
      "metadata": {
        "id": "h0Lp7nq_tA8s",
        "colab_type": "code",
        "colab": {
          "base_uri": "https://localhost:8080/",
          "height": 35
        },
        "outputId": "ccc99ebc-b22b-4ceb-90a6-1f9ade7b58e4"
      },
      "source": [
        "a=Nodo3(Nodo2(Nodoe(),10,Nodoe()),25,Nodo3(Nodoe(),32,Nodoe(),48,Nodoe()),57,Nodo2(Nodoe(),74,Nodoe()))\n",
        "print(a.string())"
      ],
      "execution_count": 2,
      "outputs": [
        {
          "output_type": "stream",
          "text": [
            "((☐10☐)25(☐32☐48☐)57(☐74☐))\n"
          ],
          "name": "stdout"
        }
      ]
    },
    {
      "cell_type": "markdown",
      "metadata": {
        "id": "TmaDE7PbWbn9",
        "colab_type": "text"
      },
      "source": [
        "Prueba 2 del código: Proceso de inserción y búsqueda."
      ]
    },
    {
      "cell_type": "code",
      "metadata": {
        "id": "PsPreh8GtLPh",
        "colab_type": "code",
        "colab": {
          "base_uri": "https://localhost:8080/",
          "height": 139
        },
        "outputId": "d969ad0b-f78d-43ef-afab-0d35442c15a1"
      },
      "source": [
        "a = Arbol23() #Árbol vacío.\n",
        "a.insert(3)   #Comienzo del proceso de inserción de la secuencia pedida, imprimiendo el árbol en cada paso.\n",
        "a.imprimir()\n",
        "a.insert(1)\n",
        "a.imprimir()\n",
        "a.insert(4)\n",
        "a.imprimir()\n",
        "a.insert(5)\n",
        "a.imprimir()\n",
        "a.insert(9)\n",
        "a.imprimir()\n",
        "a.insert(6)\n",
        "a.imprimir()\n",
        "a.insert(2)\n",
        "a.imprimir()"
      ],
      "execution_count": 3,
      "outputs": [
        {
          "output_type": "stream",
          "text": [
            "(☐3☐)\n",
            "(☐1☐3☐)\n",
            "((☐1☐)3(☐4☐))\n",
            "((☐1☐)3(☐4☐5☐))\n",
            "((☐1☐)3(☐4☐)5(☐9☐))\n",
            "((☐1☐)3(☐4☐)5(☐6☐9☐))\n",
            "((☐1☐2☐)3(☐4☐)5(☐6☐9☐))\n"
          ],
          "name": "stdout"
        }
      ]
    },
    {
      "cell_type": "code",
      "metadata": {
        "id": "yu2-1u9B9v9X",
        "colab_type": "code",
        "colab": {
          "base_uri": "https://localhost:8080/",
          "height": 69
        },
        "outputId": "1073fd1d-0965-4950-8eb4-eafc3df8863b"
      },
      "source": [
        "print(a.search(3).string()) #Como retorna un puntero al nodo que lo contiene, se debe poner también la función string para imprimirlo.\n",
        "print(a.search(2).string())\n",
        "print(str(a.search(7)))"
      ],
      "execution_count": 4,
      "outputs": [
        {
          "output_type": "stream",
          "text": [
            "((☐1☐2☐)3(☐4☐)5(☐6☐9☐))\n",
            "(☐1☐2☐)\n",
            "None\n"
          ],
          "name": "stdout"
        }
      ]
    }
  ]
}