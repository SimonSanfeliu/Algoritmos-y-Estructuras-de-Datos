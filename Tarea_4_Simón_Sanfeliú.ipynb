{
  "nbformat": 4,
  "nbformat_minor": 0,
  "metadata": {
    "kernelspec": {
      "display_name": "Python 3",
      "language": "python",
      "name": "python3"
    },
    "language_info": {
      "codemirror_mode": {
        "name": "ipython",
        "version": 3
      },
      "file_extension": ".py",
      "mimetype": "text/x-python",
      "name": "python",
      "nbconvert_exporter": "python",
      "pygments_lexer": "ipython3",
      "version": "3.7.1"
    },
    "colab": {
      "name": "Tarea 4 Simón Sanfeliú.ipynb",
      "provenance": [],
      "collapsed_sections": [],
      "include_colab_link": true
    }
  },
  "cells": [
    {
      "cell_type": "markdown",
      "metadata": {
        "id": "view-in-github",
        "colab_type": "text"
      },
      "source": [
        "<a href=\"https://colab.research.google.com/github/SimonSanfeliu/Algoritmos-y-Estructuras-de-Datos/blob/master/Tarea_4_Sim%C3%B3n_Sanfeli%C3%BA.ipynb\" target=\"_parent\"><img src=\"https://colab.research.google.com/assets/colab-badge.svg\" alt=\"Open In Colab\"/></a>"
      ]
    },
    {
      "cell_type": "markdown",
      "metadata": {
        "id": "aHlFnqz2F2nU",
        "colab_type": "text"
      },
      "source": [
        "# CC3001 Otoño 2020 Tarea 4\n",
        "# Generación de código\n",
        "\n",
        "Profesores: Sección 1 Patricio Poblete / Sección 2 Nelson Baloian\n",
        "\n",
        "Plazo: Lunes 8 de junio de 2020 a las 23:59"
      ]
    },
    {
      "cell_type": "markdown",
      "metadata": {
        "id": "-t8wjUcsF2nV",
        "colab_type": "text"
      },
      "source": [
        "El objetivo de esta tarea es aprender sobre la manipulación de árboles que representan fórmulas. Hay muchas cosas que uno puede hacer con estos árboles, y en esta tarea nos enfocaremos en particular en algo que los compiladores hacen: la **generación de código** para evaluar fórmulas.\n",
        "\n",
        "Específicamente, el problema es: dada una fórmula, generar una secuencia de instrucciones elementales que la evalúen. Por ejemplo, dada una fórmula como\n",
        "\n",
        "```\n",
        "(a+b)*(c-d)\n",
        "```\n",
        "\n",
        "se podría generar código como el siguiente:\n",
        "\n",
        "```\n",
        "t1=a+b\n",
        "t2=c-d\n",
        "t3=t1*t2\n",
        "```\n",
        "\n",
        "Las instrucciones elementales son siempre de la forma ``ti=x op y``, donde ``ti`` es una variable temporal, ``x`` e ``y`` pueden ser variables o números, y ``op`` es un operador. Uno va creando variables ``t1``, ``t2``, ... a medida que las necesita, y la última de ellas es la que almacena el valor final de la fórmula.\n",
        "\n",
        "Las fórmulas pueden ser arbitrariamente complicadas, como por ejemplo la fórmula\n",
        "\n",
        "$$\n",
        "(2-p\\,q)\\left( \\frac{1}{n}+\\frac{1}{p+q}\\right)\n",
        "$$\n",
        "\n",
        "la cual escribimos como\n",
        "\n",
        "```\n",
        "(2-p*q)*(1/n+1/(p+q))\n",
        "```\n",
        "\n",
        "y cuyo código generado podría ser,\n",
        "\n",
        "```\n",
        "t1=p*q\n",
        "t2=2-t1\n",
        "t3=1/n\n",
        "t4=p+q\n",
        "t5=1/t4\n",
        "t6=t3+t5\n",
        "t7=t2*t6\n",
        "```\n",
        "\n",
        "El objetivo de esta tarea es que usted implemente una función que, dado un árbol ya construído, lo recorra para generar una secuencia de instrucciones elementales que lo evalúe.\n",
        "\n",
        "A continuación usted encontrará clases ``Nodoi``, ``Nodoe`` y ``Arbol`` que implementan árboles que representan fórmulas. La clase ``Arbol`` viene con un constructor que recibe un string como parámetro, el cual contiene una fórmula, y este constructor se encarga de transformar la fórmula de string a árbol, de modo que usted no necesita preocuparse de eso. Para simplificar, la fórmula solo podrá contener variables de una sola letra, números de un solo dígito, y sin espacios. Los operadores permitidos son solo suma, resta, multiplicación y división. No hay operador menos unario.\n",
        "\n",
        "Usted tienen que implementar para la clase ``Arbol`` una función ``codigo`` que al ser invocado genere una secuencia de instrucciones elementales para evaluar la fórmula representada por ese árbol, y la retorne en forma de una lista (de Python)."
      ]
    },
    {
      "cell_type": "code",
      "metadata": {
        "id": "G7vsv1WvF2nX",
        "colab_type": "code",
        "colab": {}
      },
      "source": [
        "oper = '+-*/' #String con los operadores permitidos para la fórmula.\n",
        "\n",
        "class Nodoi:\n",
        "    def __init__(self, izq, info, der):\n",
        "        global l #Se agrega una lista global en donde se guardará la fórmula ingresada reescrita en postorden.\n",
        "        l = []\n",
        "        self.izq=izq\n",
        "        self.info=info\n",
        "        self.der=der\n",
        "    def postorden(self):\n",
        "        self.izq.postorden()   \n",
        "        self.der.postorden()\n",
        "        print(self.info, end=\" \")\n",
        "    def listapostorden(self): #Función que irá ingresando la fórmula en postorden a la lista global definida anteriormente.\n",
        "        global l\n",
        "        self.izq.listapostorden()\n",
        "        self.der.listapostorden()\n",
        "        l.append(self.info)\n",
        "\n",
        "class Nodoe:\n",
        "    def __init__(self, info):\n",
        "        self.info=info\n",
        "    def postorden(self):\n",
        "        print(self.info, end=\" \")\n",
        "    def listapostorden(self): #Función que ingresa el valor del nodo a la lista global con la fórmula en postorden.\n",
        "        global l\n",
        "        l.append(self.info)\n",
        "\n",
        "class Arbol:\n",
        "    def __init__(self,formula):\n",
        "        global k\n",
        "        global s\n",
        "        s=formula+\";\" # agregamos una marca de fin de la entrada\n",
        "        k=0 # indica próximo caracter por procesar\n",
        "        # definimos funciones para analizar la fórmula\n",
        "        def expresion(): # retorna puntero a la raíz de un árbol que representa a la fórmula s\n",
        "            global k\n",
        "            global s\n",
        "            a=factor()\n",
        "            while s[k]==\"+\" or s[k]==\"-\":\n",
        "                op=s[k]\n",
        "                k+=1\n",
        "                b=factor()\n",
        "                a=Nodoi(a,op,b)\n",
        "            return a\n",
        "        def factor():\n",
        "            global k\n",
        "            global s\n",
        "            a=termino()\n",
        "            while s[k]==\"*\" or s[k]==\"/\":\n",
        "                op=s[k]\n",
        "                k+=1\n",
        "                b=termino()\n",
        "                a=Nodoi(a,op,b)\n",
        "            return a\n",
        "        def termino(): # posible constante, variable o formula parentizada\n",
        "            global k\n",
        "            global s\n",
        "            if s[k].isalpha() or s[k].isdigit():\n",
        "                a=Nodoe(s[k])\n",
        "                k+=1\n",
        "                return a\n",
        "            if s[k]==\"(\": # fórmula parentizada\n",
        "                k+=1\n",
        "                a=expresion()\n",
        "                if s[k]!=\")\":\n",
        "                    print(\"Error: Falta cierra paréntesis: \"+formula[k:])\n",
        "                    assert False\n",
        "                k+=1\n",
        "                return a\n",
        "            print(\"Error: Falta variable, número o abre paréntesis: \"+formula[k:])\n",
        "            assert False\n",
        "              \n",
        "        a=expresion()\n",
        "        if s[k]!=\";\":\n",
        "            print(\"Error: Basura al final de la fórmula: \"+formula[k:])\n",
        "            assert False                \n",
        "        self.raiz=a\n",
        "            \n",
        "    def postorden(self):\n",
        "        print(\"Postorden:\", end=\" \")\n",
        "        self.raiz.postorden()\n",
        "        print()\n",
        "\n",
        "    #Función que entrega una lista con la fórmula ordenada en postorden.\n",
        "    def listapostorden(self):\n",
        "        global l\n",
        "        if type(self.raiz) == Nodoe: #Si es que la fórmula es sólo un término, el árbol será sólo un nodo externo, \n",
        "          l = [self.raiz.info]       #lo que hace que la lista tenga sólo ese término.\n",
        "          return l\n",
        "        self.raiz.listapostorden()\n",
        "        return l \n",
        "    \n",
        "    def codigo(self):\n",
        "        lt = [] #Lista temporal donde se crean las variables temporales con las instrucciones.\n",
        "        lf = [] #Lista final con las instrucciones pedidas.\n",
        "        i = 1   #Contador para enumerar las variables temporales.\n",
        "        L = self.listapostorden() #Lista de la fórmula en postorden.\n",
        "        if len(L) == 1:     #Si se ingresó sólo una variable o número, la única instrucción es retornar ésta misma,\n",
        "          lf = ['t1='+L[0]] #por esto mismo es que la lista final queda de un sólo término, que es este.\n",
        "          return lf\n",
        "        else:\n",
        "          for x in L:\n",
        "            if x.isdigit() or x.isalpha(): #Si es un número o una letra, se agrega a la lista temporal.\n",
        "              lt.append(x)\n",
        "            elif x in oper: #Si es un operador, necesariamente hay como mínimo dos términos en la lista lt, que equivalen a las hojas\n",
        "              n = len(lt)   #hijas de dicho operador.\n",
        "              k1 = lt.pop(n-1) #Se obtienen los valores de las hojas hijas.\n",
        "              k2 = lt.pop(n-2)\n",
        "              p = k2 + x + k1 #Se crea la operación correspondiente.\n",
        "              v = 't'+str(i) + '=' + p #Se crea la variable temporal y se guarda en la listas de instrucciones.\n",
        "              lf.append(v)\n",
        "              lt.append('t'+str(i)) #Se agrega la variable temporal a la lista temporal para que las siguientes variables queden en función de ésta.\n",
        "              i += 1 #Se debe ocupar una nueva variable temporal para los siguientes términos.\n",
        "          return lf #Se entrega la lista con las instrucciones."
      ],
      "execution_count": 0,
      "outputs": []
    },
    {
      "cell_type": "markdown",
      "metadata": {
        "id": "PibRJ0ZFF2nb",
        "colab_type": "text"
      },
      "source": [
        "A continuación probamos esta funcionalidad con varias fórmulas de ejemplo. Para ver si el árbol fue construido correctamente, lo recorremos en postorden para imprimirlo en notación polaca. **Importante**: La notación polaca no tiene nada que ver con lo que ustedes tienen que hacer, es solo una manera de poder imprimir el árbol generado para chequear que esté bien construido."
      ]
    },
    {
      "cell_type": "code",
      "metadata": {
        "id": "7_7E3OWuF2nd",
        "colab_type": "code",
        "outputId": "28dcd892-9d86-4039-fcde-8dc70a9bbe9c",
        "colab": {
          "base_uri": "https://localhost:8080/",
          "height": 35
        }
      },
      "source": [
        "Arbol(\"a*b*c\").postorden()"
      ],
      "execution_count": 0,
      "outputs": [
        {
          "output_type": "stream",
          "text": [
            "Postorden: a b * c * \n"
          ],
          "name": "stdout"
        }
      ]
    },
    {
      "cell_type": "code",
      "metadata": {
        "id": "mVMg8ye2F2nj",
        "colab_type": "code",
        "outputId": "a44ee226-3aa5-471a-855c-b8cc5f7ca965",
        "colab": {
          "base_uri": "https://localhost:8080/",
          "height": 35
        }
      },
      "source": [
        "Arbol(\"(a+b)*(c-d)\").postorden()"
      ],
      "execution_count": 0,
      "outputs": [
        {
          "output_type": "stream",
          "text": [
            "Postorden: a b + c d - * \n"
          ],
          "name": "stdout"
        }
      ]
    },
    {
      "cell_type": "code",
      "metadata": {
        "id": "F4DP46cFF2nn",
        "colab_type": "code",
        "outputId": "1677eb2b-3b12-4af6-dee0-546804d44c46",
        "colab": {
          "base_uri": "https://localhost:8080/",
          "height": 35
        }
      },
      "source": [
        "Arbol(\"(2-p*q)*(1/n+1/(p+q))\").postorden()"
      ],
      "execution_count": 0,
      "outputs": [
        {
          "output_type": "stream",
          "text": [
            "Postorden: 2 p q * - 1 n / 1 p q + / + * \n"
          ],
          "name": "stdout"
        }
      ]
    },
    {
      "cell_type": "markdown",
      "metadata": {
        "id": "UzH5VKIFF2ns",
        "colab_type": "text"
      },
      "source": [
        "## Resultados"
      ]
    },
    {
      "cell_type": "markdown",
      "metadata": {
        "id": "_dKOs-tLF2ns",
        "colab_type": "text"
      },
      "source": [
        "En esta sección probamos la generación de código que usted tiene que escribir. Mientras usted no sustituya la función ``codigo`` provisoria que viene en la definición de la clase, va a aparecer la lista que generamos ahí. Primero vamos a definir una función ``probar`` que genera el código a partir de una fórmula dada e imprime el resultado:"
      ]
    },
    {
      "cell_type": "code",
      "metadata": {
        "id": "nN9p3gO-F2nt",
        "colab_type": "code",
        "colab": {}
      },
      "source": [
        "def probar(formula):\n",
        "    a=Arbol(formula)\n",
        "    for x in a.codigo():\n",
        "        print(x)"
      ],
      "execution_count": 0,
      "outputs": []
    },
    {
      "cell_type": "markdown",
      "metadata": {
        "id": "puLezujdF2nx",
        "colab_type": "text"
      },
      "source": [
        "A continuación probamos con varias fórmulas. Además de las fórmulas dadaas, usted tiene que agregar tres ejemplos adicionales."
      ]
    },
    {
      "cell_type": "code",
      "metadata": {
        "id": "f9hCpaCgF2ny",
        "colab_type": "code",
        "outputId": "9ec0a5d2-7e73-47dc-98d8-2aa0b1e39152",
        "colab": {
          "base_uri": "https://localhost:8080/",
          "height": 35
        }
      },
      "source": [
        "probar(\"a+1\")"
      ],
      "execution_count": 0,
      "outputs": [
        {
          "output_type": "stream",
          "text": [
            "t1=a+1\n"
          ],
          "name": "stdout"
        }
      ]
    },
    {
      "cell_type": "code",
      "metadata": {
        "id": "vX6V_XTrF2n7",
        "colab_type": "code",
        "outputId": "5061dc81-e19c-44f2-d917-129964f6463d",
        "colab": {
          "base_uri": "https://localhost:8080/",
          "height": 69
        }
      },
      "source": [
        "probar(\"(a+b)*(c-d)\")"
      ],
      "execution_count": 0,
      "outputs": [
        {
          "output_type": "stream",
          "text": [
            "t1=a+b\n",
            "t2=c-d\n",
            "t3=t1*t2\n"
          ],
          "name": "stdout"
        }
      ]
    },
    {
      "cell_type": "code",
      "metadata": {
        "id": "taeKmQj1F2n_",
        "colab_type": "code",
        "outputId": "01b10d33-b9c7-453e-c4e6-5c43646595fe",
        "colab": {
          "base_uri": "https://localhost:8080/",
          "height": 139
        }
      },
      "source": [
        "probar(\"(2-p*q)*(1/n+1/(p+q))\")"
      ],
      "execution_count": 0,
      "outputs": [
        {
          "output_type": "stream",
          "text": [
            "t1=p*q\n",
            "t2=2-t1\n",
            "t3=1/n\n",
            "t4=p+q\n",
            "t5=1/t4\n",
            "t6=t3+t5\n",
            "t7=t2*t6\n"
          ],
          "name": "stdout"
        }
      ]
    },
    {
      "cell_type": "code",
      "metadata": {
        "id": "KOs7ocpkF2oD",
        "colab_type": "code",
        "outputId": "db67ab2c-d1f8-417e-a100-ea3c62a0cae4",
        "colab": {
          "base_uri": "https://localhost:8080/",
          "height": 87
        }
      },
      "source": [
        "probar(\"((((a+b)+c)+d)+e)\")"
      ],
      "execution_count": 0,
      "outputs": [
        {
          "output_type": "stream",
          "text": [
            "t1=a+b\n",
            "t2=t1+c\n",
            "t3=t2+d\n",
            "t4=t3+e\n"
          ],
          "name": "stdout"
        }
      ]
    },
    {
      "cell_type": "code",
      "metadata": {
        "id": "XzR_Y6o_F2oI",
        "colab_type": "code",
        "outputId": "5f3a0521-8984-4c5b-e8cf-76fe01b21d59",
        "colab": {
          "base_uri": "https://localhost:8080/",
          "height": 87
        }
      },
      "source": [
        "probar(\"(a+(b+(c+(d+e))))\")"
      ],
      "execution_count": 0,
      "outputs": [
        {
          "output_type": "stream",
          "text": [
            "t1=d+e\n",
            "t2=c+t1\n",
            "t3=b+t2\n",
            "t4=a+t3\n"
          ],
          "name": "stdout"
        }
      ]
    },
    {
      "cell_type": "code",
      "metadata": {
        "id": "R62vPzgAF2oL",
        "colab_type": "code",
        "outputId": "805e9bc0-c6fb-4236-bdd5-e04e84e9315b",
        "colab": {
          "base_uri": "https://localhost:8080/",
          "height": 35
        }
      },
      "source": [
        "probar(\"a\")"
      ],
      "execution_count": 0,
      "outputs": [
        {
          "output_type": "stream",
          "text": [
            "t1=a\n"
          ],
          "name": "stdout"
        }
      ]
    },
    {
      "cell_type": "markdown",
      "metadata": {
        "id": "bTEMKjsgF2oO",
        "colab_type": "text"
      },
      "source": [
        "## Discusión"
      ]
    },
    {
      "cell_type": "markdown",
      "metadata": {
        "id": "Qo1CVQQLF2oP",
        "colab_type": "text"
      },
      "source": [
        "Suponga que hay escasez de variables temporales, así que se le ha pedido que trate de reciclarlas lo más posible, y solo crear nuevas variables ``ti`` cuando sea estrictamente necesario. Por ejemplo, para la fórmula\n",
        "\n",
        "```\n",
        "((a+b)*c)+((d-e)/f)\n",
        "```\n",
        "\n",
        "si generamos código como lo hemos hecho en los ejemplos anteriores (código de la izquierda), se usan 5 variables temporales, pero el código de la derecha muestra que se puede evaluar usando solo 2:\n",
        "\n",
        "```\n",
        "t1=a+b               t1=a+b\n",
        "t2=t1+c              t1=t1*c\n",
        "t3=d-e               t2=d-e\n",
        "t4=t3/f              t2=t2/f\n",
        "t5=t2+t4             t1=t1+t2\n",
        "```\n",
        "\n",
        "Discuta cómo se podría modificar su algoritmo para que (1) use menos variables temporales, y luego (2) para que use el mínimo posible de variables temporales.\n",
        "\n",
        "No es necesario que implemente nada, solo que discuta cómo se podría hacer."
      ]
    },
    {
      "cell_type": "markdown",
      "metadata": {
        "id": "Tyoz5fdJow9h",
        "colab_type": "text"
      },
      "source": [
        "Dado que la lista temporal usada en la función de código es utilizada con las mismas características que las de una pila, para ser más eficiente con el tiempo y con la operatoria, podría modificarse el algoritmo para que se utilice este tipo de estructuras en vez de la lista. Esto se haría recorriendo el árbol nuevamente en postorden, metiendo todos los elementos distintos de operadores a la pila. Una vez que se llegue a un operador en la fórmula, se hacen dos pop.() a la pila, se crea la instrucción y se le nombra con la varable temporal correspondiente. Luego de esto, la instrucción se guarda en la lista pedida y la variable se guarda en la pila utilizada. Es decir, es exactamente el mismo proceso pero con un mejor manejo del tiempo de ejecución y una mayor eficiencia respecto a la memoria. \n",
        "\n",
        "Ahora bien, ésto también permitiría una edición más simple en el código para reutilizar variables temporales. El proceso estaría enfocado en el recorrer el árbol en postorden, de igual manera que la forma original, pero si es que se encuentran dos operadores seguidos en ésta antes de llegar a la primera raíz (al final de la fórmula en postorden) entonces se puede editar una variable temporal para su reutilización. Esto se haría siguiendo la lógica de que, si es los operadores están seguidos es porque uno de ellos es una hoja hija del otro, por lo que primero debe operarse la hija y luego este resultado con el padre. Esto puede lograrse realizando la operación hija y luego operar ésta con la operación padre pero guardándola en la misma variable dentro de la pila. Por ejemplo, si se tiene (2-(p+q)), que en postorden se vería como \"2 p q + -\", en vez de hacer \n",
        "\n",
        "*   t1 = p+q\n",
        "*   t2 = 2-t1\n",
        "\n",
        "Al notar que hay dos operadores seguidos haría\n",
        "\n",
        "*   t1 = p+q\n",
        "*   t1 = 2-t1\n",
        "\n",
        "Esto es escencial a la hora de reemplazar las variables algebraicas por su valor numérico, ya que así se puede seguir una línea coherente al correcto uso de los operadores matemáticos. \n",
        "\n",
        "En el caso en el que haya sólo un operador, si es que es hoja hermana es un nodo interno igual que él, entonces sólo se creará una variable que igualmente se guardará en la pila, la que podrá ser operada correctamente una vez que se junte con las demás siguiendo este mismo método. En caso de que la hoja hermana del operador sea un nodo externo, entonces la primera operatoria que involucra a este nodo externo puede ser guardada en la misma variable que la del operador solitario.\n",
        "\n",
        "Dado esto, y asumiendo que idealmente se deben priorizar las variables con un subíndice menor aunque el resultado sea el mismo, debe también agregarse un correcto uso del nombramiento de aquellas variables que junten otras variables de una raíz hermana. Para entendderlo mejor, si se tiene el caso (1/n+1/(p+q)), la operatoria con variables reducidas, recorriendo el árbol en postorden, sería la siguiente:\n",
        "\n",
        "*   t1 = 1/n\n",
        "*   t2 = p+q\n",
        "*   t2 = 1/t2\n",
        "* t1 = t1+t2\n",
        "\n",
        "Pero este resultado sería el mismo si es que se hubiera hecho en el último paso \"t2 = t1+t2\", ya que mientras se mantenga el orden y el lado de la operatoria, el resultado sigue siendo el mismo pero guardado en una variable distinta. Si es que llegase a ser estrictamente necesario que se guarde en la variable de índice menor, debe implementarse esta medida de igual forma al código. \n",
        "\n",
        "Ahora bien, con respecto a la cantidad mínima de variables que pueden obtenerse, depende meramente de la complejidad del árbol o fórmula en cuestión. Es fácil ver que, si es que el árbol se expande con nodos internos a un lado y nodos externos al otro, será necesaria solamente una variable temporal. Por ejemplo, para el caso (((a+b)+c)+d), escrito en postorden se ve que \"a b + c + d +\", viendo que los nodos internos son sólo hacia la izquierda, se tiene que\n",
        "\n",
        "* t1 = a+b\n",
        "* t1 = t1+c\n",
        "* t1 = t1+d\n",
        "\n",
        "Este proceso es idéntico si es que el árbol estuviese construido hacia la derecha, es decir si postorden fuera \"d c a b + + + +\", siguiendo la metodología propuesta anteriormente. \n",
        "\n",
        "Ahora, viendo otros ejemplos más complejos cuando hay más nodos internos a ambos lados, se ve que la cantidad de variables necesariamente aumentará; dado que ha aumentado la complejidad del árbol. Tomando ((a+b)*c)+((d-e)/f), escrito en postorden se puede ver que presenta dos nodos internos a cada lado; concordando que en el ejemplo dado utiliza dos variables temporales como mínimo. Por último, si se toma (2-p*q)*(1/n+1/(p+q)) y se revisa la composición de su árbol, se podrá observar que en un lado hay 2 nodos internos y en el otro habrán 4. Viendo ahora su mínima cantidad de variables temporales\n",
        "\n",
        "* t1 = p*q\n",
        "* t1 = 2-t1\n",
        "* t2 = 1/n\n",
        "* t3 = p+q\n",
        "* t3 = 1/t3\n",
        "* t2 = t2+t3\n",
        "* t1 = t1*t2\n",
        "\n",
        "En total, se tienen 3 variables temporales. Por ende, podría decirse que la mínima cantidad de variables temporales está dada por la cantidad de nodos internos y su distribución. En concreto, para mantener el mínimo, se creará una variable temporal cada vez que haya una secuencia de nodos internos a un lado de la raíz y que tenga al otro lado un nodo externo. Si es que un nodo interno tiene nodos internos a ambos lados, entonces se deberá crear otra variable temporal para poder hacer correctamente la operatoria. Esto queda más claro en el siguiente gráfico del árbol del último ejemplo:\n",
        "\n",
        "![Árbol binario con sus respectivas variables temporales reutilizables.](https://drive.google.com/file/d/1pVoDTg-VoyyJPvBpsWQsUdErJ9zoMszA/view?usp=sharing)\n",
        "\n",
        "Aquí se puede ver cómo son las mínimas variables reutilizables, siendo que para unir con los últimos operadores se reemplazan entre ellas hasta quedar sólo una; pero sieuge siendo necesario la creación de 3 para operar correctamente.\n",
        "\n",
        "\n",
        "\n",
        "\n"
      ]
    }
  ]
}