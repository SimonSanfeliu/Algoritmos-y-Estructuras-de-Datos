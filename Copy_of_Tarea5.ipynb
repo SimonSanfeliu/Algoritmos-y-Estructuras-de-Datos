{
  "nbformat": 4,
  "nbformat_minor": 0,
  "metadata": {
    "kernelspec": {
      "display_name": "Python 3",
      "language": "python",
      "name": "python3"
    },
    "language_info": {
      "codemirror_mode": {
        "name": "ipython",
        "version": 3
      },
      "file_extension": ".py",
      "mimetype": "text/x-python",
      "name": "python",
      "nbconvert_exporter": "python",
      "pygments_lexer": "ipython3",
      "version": "3.7.1"
    },
    "colab": {
      "name": "Copy of Tarea5.ipynb",
      "provenance": [],
      "include_colab_link": true
    }
  },
  "cells": [
    {
      "cell_type": "markdown",
      "metadata": {
        "id": "view-in-github",
        "colab_type": "text"
      },
      "source": [
        "<a href=\"https://colab.research.google.com/github/SimonSanfeliu/Algoritmos-y-Estructuras-de-Datos/blob/master/Copy_of_Tarea5.ipynb\" target=\"_parent\"><img src=\"https://colab.research.google.com/assets/colab-badge.svg\" alt=\"Open In Colab\"/></a>"
      ]
    },
    {
      "cell_type": "markdown",
      "metadata": {
        "id": "qR6cOXGX_I6Y",
        "colab_type": "text"
      },
      "source": [
        "# CC3001 Otoño 2020 Tarea 5\n",
        "# Simulación con Colas y Colas de Prioridad\n",
        "\n",
        "Profesores: Sección 1 Patricio Poblete / Sección 2 Nelson Baloian\n",
        "\n",
        "Plazo: Lunes 22 de junio de 2020 a las 23:59"
      ]
    },
    {
      "cell_type": "markdown",
      "metadata": {
        "id": "cEaguEDP_I6h",
        "colab_type": "text"
      },
      "source": [
        "El objetivo de esta tarea es aprender a escribir programas de simulación sencillos, haciendo uso de colas y de colas de prioridad.\n",
        "\n",
        "En primer lugar, consideremos una caja a la que van llegando clientes en instantes aleatorios, separados por intervalos de tamaño promedio $t_a$. Cada cliente que llega se pone al final de la cola, espera su turno, y cuando llega a la cabeza de la cola lo empiezan a atender. La atención dura también un tiempo aleatorio de tamaño promedio $t_s$. Cuando completa su atención, sale del sistema, y en la caja se empieza a atender al siguiente cliente de la cola, en caso de que haya alguien.\n",
        "\n",
        "![colaT5](https://github.com/ppoblete/Tareas-CC3001-2020-1/blob/master/colaT5.png?raw=1)\n",
        "\n",
        "Los tiempos entre llegadas y el tiempo de atención se modelan con distribuciones exponenciales, lo cual es la suposición usual en este tipo de simulaciones.\n",
        "\n",
        "A continuación veremos un programa que simula este proceso para un número dado de clientes y calcula el largo promedio de la cola y la demora total promedio de los clientes.\n",
        "\n",
        "El programa lleva un reloj simulado, que comienza en cero y va  avanzando monótonamente, al siguiente instante en que un cliente llega al sistema o al siguiente instante en que un cliente sale del sistema, lo que sea que ocurra primero.\n",
        "\n",
        "Como hay solo dos tipos posible de eventos de interés, tendremos una variable para cada uno de ellos (``evento_llegada`` y ``evento_salida``), que almacenan los respectivos tiempos. Si en este momento no hay nadie que deba salir del sistema, ``evento_salida`` es ``None``, lo cual ocurre cada vez que la cola de espera queda vacía. En cambio, ``evento_llegada`` solo es ``None``cuando ya han llegado todos los clientes que debían llegar.\n",
        "\n",
        "Nótese que no es necesario tener generados los tiempos de todas las llegadas futuras, basta con tener el tiempo de la próxima llegada, y cuando ella se cumple se genera la siguiente.\n",
        "\n",
        "En cada elemento que está en la cola de espera anotamos solo la hora a la que llegó ese cliente, que es lo único que necesitamos saber para poder calcular, en el momento en que sale, cuánto tiempo demoró en el sistema.\n",
        "\n",
        "Estudie con atención este programa y la bitácora que él genera."
      ]
    },
    {
      "cell_type": "code",
      "metadata": {
        "id": "pQdaEcML_I6i",
        "colab_type": "code",
        "colab": {}
      },
      "source": [
        "import numpy as np\n",
        "class Cola:\n",
        "    def __init__(self):\n",
        "        self.q=[]\n",
        "    def enq(self,x):\n",
        "        self.q.insert(0,x)\n",
        "    def deq(self):\n",
        "        assert len(self.q)>0\n",
        "        return self.q.pop()\n",
        "    def is_empty(self):\n",
        "        return len(self.q)==0\n",
        "    def size(self):\n",
        "        return len(self.q)\n",
        "\n",
        "def print_list(L):\n",
        "    for x in L:\n",
        "        print(x)\n",
        "\n",
        "def simula(maxclientes,ta,ts,debug=False):\n",
        "    # simula el paso de maxclientes clientes por el sistema,\n",
        "    # ta = tiempo promedio entre llegadas (arrivals)\n",
        "    # ts = tiempo promedio de servicio\n",
        "    # maxclientes = número maximo de clientes para la simulacion\n",
        "    # debug = True => genera bitácora y usa secuencia aleatoria reproducible\n",
        "    # retorna (largo promedio de la cola, tiempo promedio en el sistema)\n",
        "\n",
        "    if debug:\n",
        "        np.random.seed(1234)\n",
        "    ahora=0 # tiempo simulado\n",
        "    nclientes=0 # número de clientes que han llegado\n",
        "    c=Cola()\n",
        "    evento_llegada=np.random.exponential(ta)\n",
        "    evento_salida=None\n",
        "    acum_largo_cola=0 # acumula largo de la cola para sacar promedio al final\n",
        "    acum_tiempo_en_sistema=0 # acumula tiempos en el sistema para sacar promedio al final\n",
        "    bitacora=[] # En caso que se pida debug\n",
        "    \n",
        "    while evento_llegada is not None or evento_salida is not None:\n",
        "        # Ver si el próximo evento que toca que ocurra es la llegada o la salida de un cliente\n",
        "        if (evento_salida is None) or (evento_llegada is not None and (evento_llegada<=evento_salida)):\n",
        "            # Llega un cliente, avanzamos el tiempo simulado a la hora en que llega\n",
        "            ahora=evento_llegada\n",
        "            nclientes+=1\n",
        "            \n",
        "            if debug:\n",
        "                bitacora.append(\"T=\"+str(ahora)+\n",
        "                                \" evento_llegada=\"+str(evento_llegada)+\" evento_salida=\"+str(evento_salida)+\n",
        "                                \" => LLEGADA\"+\n",
        "                                \"\\n\\tcola=\"+str(c.q))\n",
        "            # El cliente que acaba de llegar se pone a la cola\n",
        "            c.enq(ahora) # Basta anotar su hora de llegada\n",
        "            acum_largo_cola+=c.size()\n",
        "            \n",
        "            if c.size()==1: # la cola estaba vacía, lo empezamos a atender de inmediato\n",
        "                evento_salida=ahora+np.random.exponential(ts) # programamos su hora de salida\n",
        "            \n",
        "            if nclientes<maxclientes: # programamos la hora de llegada del siguiente cliente\n",
        "                evento_llegada=ahora+np.random.exponential(ta)\n",
        "            else:\n",
        "                evento_llegada=None\n",
        "        else:               \n",
        "            # Termina de atenderse un cliente, avanzamos el tiempo simulado a la hora en que sale\n",
        "            ahora=evento_salida\n",
        "            if debug:\n",
        "                bitacora.append(\"T=\"+str(ahora)+\n",
        "                                \" evento_llegada=\"+str(evento_llegada)+\" evento_salida=\"+str(evento_salida)+\n",
        "                                \" => SALIDA\"+\n",
        "                                \"\\n\\tcola=\"+str(c.q))\n",
        "            tllegada=c.deq() # sacamos al cliente de la cola\n",
        "            acum_tiempo_en_sistema+=(ahora-tllegada)\n",
        "            \n",
        "            if c.is_empty(): # no hay nadie en la cola\n",
        "                evento_salida=None\n",
        "            else: # Hay un cliente esperando, empezamos a atenderlo\n",
        "                evento_salida=ahora+np.random.exponential(ts) # programamos su hora de salida\n",
        "    \n",
        "    return (acum_largo_cola/maxclientes,acum_tiempo_en_sistema/maxclientes,bitacora)            "
      ],
      "execution_count": null,
      "outputs": []
    },
    {
      "cell_type": "code",
      "metadata": {
        "id": "xV5bLtjo_I6p",
        "colab_type": "code",
        "colab": {},
        "outputId": "78f8a059-5e44-438b-9b1d-ea84257d8bea"
      },
      "source": [
        "(cola,demora,bitacora)=simula(10,100,75,debug=True)\n",
        "print(\"Largo promedio de la cola=\",cola,\" Tiempo promedio en el sistema=\",demora)"
      ],
      "execution_count": null,
      "outputs": [
        {
          "output_type": "stream",
          "text": [
            "Largo promedio de la cola= 1.9  Tiempo promedio en el sistema= 138.02762271192722\n"
          ],
          "name": "stdout"
        }
      ]
    },
    {
      "cell_type": "code",
      "metadata": {
        "id": "qdfsh7AM_I6v",
        "colab_type": "code",
        "colab": {},
        "outputId": "dd122db9-b5cf-49bb-b171-2f2d398c57d8"
      },
      "source": [
        "print_list(bitacora)"
      ],
      "execution_count": null,
      "outputs": [
        {
          "output_type": "stream",
          "text": [
            "T=21.25986576184801 evento_llegada=21.25986576184801 evento_salida=None => LLEGADA\n",
            "\tcola=[]\n",
            "T=78.83677538497456 evento_llegada=78.83677538497456 evento_salida=94.24603167524747 => LLEGADA\n",
            "\tcola=[21.25986576184801]\n",
            "T=94.24603167524747 evento_llegada=232.71542283099382 evento_salida=94.24603167524747 => SALIDA\n",
            "\tcola=[78.83677538497456, 21.25986576184801]\n",
            "T=207.7973648436669 evento_llegada=232.71542283099382 evento_salida=207.7973648436669 => SALIDA\n",
            "\tcola=[78.83677538497456]\n",
            "T=232.71542283099382 evento_llegada=232.71542283099382 evento_salida=None => LLEGADA\n",
            "\tcola=[]\n",
            "T=256.5855663702635 evento_llegada=265.07595569718336 evento_salida=256.5855663702635 => SALIDA\n",
            "\tcola=[232.71542283099382]\n",
            "T=265.07595569718336 evento_llegada=265.07595569718336 evento_salida=None => LLEGADA\n",
            "\tcola=[]\n",
            "T=386.489172340086 evento_llegada=582.4168679105603 evento_salida=386.489172340086 => SALIDA\n",
            "\tcola=[265.07595569718336]\n",
            "T=582.4168679105603 evento_llegada=582.4168679105603 evento_salida=None => LLEGADA\n",
            "\tcola=[]\n",
            "T=626.7051068662289 evento_llegada=626.7051068662289 evento_salida=738.9366623619304 => LLEGADA\n",
            "\tcola=[582.4168679105603]\n",
            "T=696.2190483450556 evento_llegada=696.2190483450556 evento_salida=738.9366623619304 => LLEGADA\n",
            "\tcola=[626.7051068662289, 582.4168679105603]\n",
            "T=738.9366623619304 evento_llegada=811.2505419244258 evento_salida=738.9366623619304 => SALIDA\n",
            "\tcola=[696.2190483450556, 626.7051068662289, 582.4168679105603]\n",
            "T=811.2505419244258 evento_llegada=811.2505419244258 evento_salida=832.4793149848136 => LLEGADA\n",
            "\tcola=[696.2190483450556, 626.7051068662289]\n",
            "T=832.4793149848136 evento_llegada=857.4938981550002 evento_salida=832.4793149848136 => SALIDA\n",
            "\tcola=[811.2505419244258, 696.2190483450556, 626.7051068662289]\n",
            "T=857.4938981550002 evento_llegada=857.4938981550002 evento_salida=894.2570294009206 => LLEGADA\n",
            "\tcola=[811.2505419244258, 696.2190483450556]\n",
            "T=894.2570294009206 evento_llegada=927.427158306087 evento_salida=894.2570294009206 => SALIDA\n",
            "\tcola=[857.4938981550002, 811.2505419244258, 696.2190483450556]\n",
            "T=895.296837936396 evento_llegada=927.427158306087 evento_salida=895.296837936396 => SALIDA\n",
            "\tcola=[857.4938981550002, 811.2505419244258]\n",
            "T=927.427158306087 evento_llegada=927.427158306087 evento_salida=1006.4499708056504 => LLEGADA\n",
            "\tcola=[857.4938981550002]\n",
            "T=1006.4499708056504 evento_llegada=None evento_salida=1006.4499708056504 => SALIDA\n",
            "\tcola=[927.427158306087, 857.4938981550002]\n",
            "T=1167.1389175826548 evento_llegada=None evento_salida=1167.1389175826548 => SALIDA\n",
            "\tcola=[927.427158306087]\n"
          ],
          "name": "stdout"
        }
      ]
    },
    {
      "cell_type": "markdown",
      "metadata": {
        "id": "4RX6EIbo_I6y",
        "colab_type": "text"
      },
      "source": [
        "## Lo que usted tiene que hacer"
      ]
    },
    {
      "cell_type": "markdown",
      "metadata": {
        "id": "7PVZ1Smo_I6z",
        "colab_type": "text"
      },
      "source": [
        "### 1. Mejorar este programa introduciendo una cola de prioridad\n",
        "\n",
        "El programa está escrito sabiendo que puede haber dos tipos de eventos por ocurrir (LLEGADA y SALIDA) y que en todo momento puede haber a lo más solo uno de cada tipo.\n",
        "\n",
        "En una situación más general, podría haber eventos de muchos tipos programados para ocurrir, en muchos instantes distintos. En ese caso, la implementación presentada es demasiado limitada, y se requiere un mecanismo más general para administrar esa lista de eventos futuros. Una *cola de prioridad* (usando el tiempo como prioridad, y en que el mínimo tiempo equivale a mejor prioridad) es la estructura adecuada, porque en esa lista de eventos futuros siempre vamos extrayendo el primero que debe ocurrir (el mínimo), y durante la ejecución se pueden generar nuevos elementos programados para ocurrir en el futuro (inserciones).\n",
        "\n",
        "En preparación a poder simular modelos más complejos, lo que usted tiene que hacer es implementar una lista de eventos futuros mediante uan cola de prioridad, en la cual se almacenen pares de la forma\n",
        "\n",
        "$$\n",
        "(\\text{tiempo},\\text{tipo de evento})\n",
        "$$\n",
        "\n",
        "y modificar el programa para que utilice esa cola de prioridad en lugar de las variables ``evento_salida`` y ``evento_llegada``. Implemente la cola de prioridad en base al código para heaps que aparece en el apunte.\n",
        "\n",
        "Sugerencias: Antes del while, encolar el primer evento de llegada, luego en cada iteración sacar un evento de la cola de prioridad y procesarlo, y cuando en el programa original se generaba un evento nuevo y se asignaba a la variable respectiva, ahora hay que insertar un nuevo evento del tipo correspondiente en la cola de prioridad.\n",
        "\n",
        "El programa resultante debiera ser más simple, porque varias cosas se unifican al verlas de esta manera.\n",
        "\n",
        "Ejecute ambos programas en modo ``debug`` y asegúrese que en las bitácoras resultantes los eventos que ocurren y sus tiempos sean idénticos."
      ]
    },
    {
      "cell_type": "markdown",
      "metadata": {
        "id": "EiFVF2jZ_I6z",
        "colab_type": "text"
      },
      "source": [
        "## 2. Modificar el modelo para introducir un tiempo comprando\n",
        "\n",
        "A continuación, introduciremos un elemento adicional en el modelo, y usted debe modificar su programa para incluirlo.\n",
        "\n",
        "Supondremos que una vez que un cliente llega, en lugar de ponerse a la cola de inmediato, pasa un rato en la tienda comprando, y una vez que termina (después de transcurrido un tiempo aleatorio de duración promedio $t_c$), en ese momento recién se pone a la cola para pagar en la caja.\n",
        "\n",
        "![cola2T5](https://github.com/ppoblete/Tareas-CC3001-2020-1/blob/master/cola2T5.png?raw=1)\n",
        "\n",
        "Observe que, como puede haber muchos clientes en la tienda que aún no terminan de comprar, en la lista de eventos futuros ahora puede haber muchos eventos de un nuevo tipo (FINCOMPRA), lo que justifica el haber introducido la cola de prioridad.\n",
        "\n",
        "Ejecute su programa en modo ``debug`` agregando un parámetro $t_c=300$ e imprima el largo promedio de la cola, la demora total promedio de los clientes y la bitácora."
      ]
    },
    {
      "cell_type": "markdown",
      "metadata": {
        "id": "fc5Rru6W_I60",
        "colab_type": "text"
      },
      "source": [
        "## 3. ¿Qué hay que entregar?\n",
        "\n",
        "Usted debe entregar este mismo archivo, modificado de acuerdo a lo que se pide. Haga todos los cambios necesarios para explicar y documentar adecuadamente su código. No olvide poner su nombre."
      ]
    },
    {
      "cell_type": "markdown",
      "metadata": {
        "id": "VHmqGEPfFLoJ",
        "colab_type": "text"
      },
      "source": [
        "## Parte 1"
      ]
    },
    {
      "cell_type": "markdown",
      "metadata": {
        "id": "WIwezcTk_udO",
        "colab_type": "text"
      },
      "source": [
        "Se agrega la cola de prioridad en forma de Heap, editada de tal manera que funcione con el menor valor posible como mayor prioridad y para que funcione con las tuplas pedidas. Una vez hecho esto, se edita la función \"simula\" utilizando esta herramienta para eliminar las variables 'evento_llegada' y 'evento_salida'. Para lograr este cambio de manera efectiva, el Heap presenta tuplas con el tiempo cuando se da el evento y qué tipo de evento es. Una vez hecho esto, se extrae el objeto con mayor prioridad y se procesa en la función. Si es un evento de llegada, es decir, llega un cliente a la tienda: el contador de clientes sube, se guarda el tiempo de llegada en la cola dada, que simboliza que el cliente entró y pasó de inmediato a comprar; y luego se suma el tamaño actual de ésta a la variable correspondiente, la cual será usada después para calcular el alrgo promedio de la cola. Una vez hecho todo esto, se procede a analizar la \"tienda\". Si es que aun no se llega al límite de clientes, se crea otro evento llegada. Si es que la cola es de tan sólo una persona, entonces se le atiende de inmediato, lo que implica crear su respectivo evento salida. \n",
        "\n",
        "Ahora, al procesar un evento de salida, primero se desencola un tiempo, que dado el orden en que se procesan los eventos gracias al Heap, será el tiempo de llegada correspondiente a esta salida. Esto es, al evento de salida que proceso le asocio el tiempo en el que entró a la tienda. Con esto, se pueden restar los tiempos de salida y llegada para obtener cuánto tiempo estuvo el cliente en el sistema; valor que se guarda sumándose a la variable 'acum_en_el_sistema', la cual se usará para calcular el tiempo de demora total promedio del sistema. Una vez hecho esto, se debe revisar la cola de la \"caja\". Si ésta está vacía, pero aún pueden llegar clientes, se pasa a analizar el siguiente caso. Si es que está vacía y se alcanzo el número máximo de clientes, se detiene la simulación. En caso de que aún hayan personas en la cola, se genera un evento salida para éstos.\n",
        "\n",
        "Cabe mencionar que el modelo de los tiempos de salida y llegada están dictados por una distribución de Poisson, por lo que éstos están modelados según una exponencial que tiene de parámetro el tiempo promedio respectivo.\n",
        "\n",
        "En caso de haberse pedido un debug, se guardará la bitácora de la simulación, guardando los tiempos en que ocurre un evento y explicitando qué evento ocurrió. La bitácora está simplificada de la función original, siguiendo las indicaciones del profesor en el foro del curso.\n",
        "\n",
        "Finalmente, la función retorna el largo promedio de la cola (todos los tamaños que tuvo la cola dividido en la cantidad total de clientes), el tiempo promedio en el sistema ('acum_en_el_sistema' dividido en la cantidad total de clientes) y la bitácora, en forma de lista, de haber sido pedida.\n",
        "\n",
        "Todo esto perimitirá que la parte 2 salga más fluida, ya que con estos cambios se puede modificar la función para que acepte más eventos."
      ]
    },
    {
      "cell_type": "code",
      "metadata": {
        "id": "zyoTBQS9FKwn",
        "colab_type": "code",
        "colab": {}
      },
      "source": [
        "import numpy as np\n",
        "class Cola:\n",
        "    def __init__(self):\n",
        "        self.q=[]\n",
        "    def enq(self,x):\n",
        "        self.q.insert(0,x)\n",
        "    def deq(self):\n",
        "        assert len(self.q)>0\n",
        "        return self.q.pop()\n",
        "    def is_empty(self):\n",
        "        return len(self.q)==0\n",
        "    def size(self):\n",
        "        return len(self.q)\n",
        "\n",
        "def print_list(L):\n",
        "    for x in L:\n",
        "        print(x)\n",
        "\n",
        "def trepar(a,j):                            #Como los elementos del arreglo ahora son tuplas y el primer elemento de esta tupla define su prioridad,\n",
        "  while j>=1 and a[j][0]<a[(j-1)//2][0]:    #son estos elementos los que deben ser comparados. \n",
        "    (a[j],a[(j-1)//2]) = (a[(j-1)//2],a[j]) #Se cambian los elementos enteros porque su prioridad no cambia el tipo de evento que es.\n",
        "    j = (j-1)//2                            #Las comparaciones quedan al revés porque a menor tiempo, mayor prioridad.\n",
        "\n",
        "def hundir(a,j,n):\n",
        "  while 2*j+1<n:\n",
        "    k=2*j+1\n",
        "    if k+1<n and a[k+1][0]<a[k][0]: #Trabajando con el tiempo de las tuplas.\n",
        "      k+=1\n",
        "    if a[j][0]<=a[k][0]:\n",
        "      break\n",
        "    (a[j],a[k]) = (a[k],a[j])\n",
        "    j=k\n",
        "\n",
        "class Heap:\n",
        "  def __init__(self,maxn=100):\n",
        "    self.a = np.zeros(maxn, dtype = tuple) #Se modifica el arreglo para trabajar con las tuplas pedidas.\n",
        "    self.n = 0\n",
        "  def insert(self,x): #Asumiendo que se inserta otra tupla.\n",
        "    assert self.n<len(self.a)\n",
        "    self.a[self.n]=x\n",
        "    trepar(self.a,self.n)\n",
        "    self.n += 1\n",
        "  def extract_max(self):\n",
        "    x = self.a[0]\n",
        "    self.n -= 1\n",
        "    self.a[0]=self.a[self.n]\n",
        "    hundir(self.a,0,self.n)\n",
        "    return x\n",
        "  def imprimir(self):\n",
        "    print(self.a[0:self.n])\n",
        "\n",
        "def simula(maxclientes,ta,ts,debug=False):\n",
        "    # simula el paso de maxclientes clientes por el sistema,\n",
        "    # ta = tiempo promedio entre llegadas (arrivals)\n",
        "    # ts = tiempo promedio de servicio\n",
        "    # maxclientes = número maximo de clientes para la simulacion\n",
        "    # debug = True => genera bitácora y usa secuencia aleatoria reproducible\n",
        "    # retorna (largo promedio de la cola, tiempo promedio en el sistema)\n",
        "    if debug:\n",
        "        np.random.seed(1234)\n",
        "\n",
        "    ahora=0 # tiempo simulado\n",
        "    nclientes=0 # número de clientes que han llegado\n",
        "    c=Cola() #La cola que tendrá los tiempos de llegada y salida a lo largo del proceso.\n",
        "    h = Heap() #Se agrega la cola de prioridad pedida.\n",
        "    acum_largo_cola=0 # acumula largo de la cola para sacar promedio al final\n",
        "    acum_tiempo_en_sistema=0 # acumula tiempos en el sistema para sacar promedio al final\n",
        "    bitacora=[] # En caso que se pida debug\n",
        "\n",
        "    ti = np.random.exponential(ta) #Siguiendo el hint, se inserta el primer evento de llegada fuera del while. \n",
        "    h.insert((ti, 'llegada'))      \n",
        "\n",
        "    while h.n != 0:         #Se verifica que hayan eventos en el heap.\n",
        "        k = h.extract_max() #Se extrae el máximo del heap, es decir, el evento más cercano a ocurrir.\n",
        "        ahora = k[0]        #El tiempo actual es el tiempo de la tupla.\n",
        "\n",
        "        if debug:\n",
        "            bitacora.append('T = '+str(ahora)+' Tipo de evento: '+k[1]) #Bitácora utilizando lo dicho en el foro por el profesor.\n",
        "\n",
        "        if k[1] == 'llegada': \n",
        "          nclientes += 1 #Llegó un cliente.\n",
        "          c.enq(ahora)   #Se guarda el tiempo actual en la cola y se agrega el tamaño actual de ésta a la variables acum_largo_cola.\n",
        "          acum_largo_cola+=c.size()\n",
        "\n",
        "          if c.size() == 1:    #Si es que hay sólo un elemento en la cola, sólo hay una persona en ésta; por lo que se atiende de inmediato.\n",
        "            tf = ahora + np.random.exponential(ts) \n",
        "            s = (tf, 'salida') #Al atender al cliente, se genera la tupla con su tiempo de salida y con el evento 'salida'.\n",
        "            h.insert(s)        #Se inserta la tupla al heap para ordenar el proceso de simulación.\n",
        "          if nclientes < maxclientes: #Si aun pueden haber más clientes, se genera una tupla de llegada para el siguiente cliente.\n",
        "            ti = ahora + np.random.exponential(ta)\n",
        "            e = (ti, 'llegada')\n",
        "            h.insert(e)\n",
        "        else:\n",
        "          tllegada = c.deq() #De la cola se saca el tiempo de llegada asociado al tiempo de salida correspondiente.\n",
        "          acum_tiempo_en_sistema += (ahora-tllegada) #La resta entre tsalida y tllegada da cuánto tiempo estuvo el cliente en el sistema.\n",
        "\n",
        "          if c.is_empty(): \n",
        "            if nclientes == maxclientes: #Si la cola estaba vacía y además se llegó al máximo de clientes, entonces se termina la simulación (ya se\n",
        "              break                      #resolvieron todos los casos, todos los clientes ya salieron).\n",
        "            else:  #Si es que aun quedan clientes por llegar, se pasa al siguiente elemento del heap, ya que la cola puede quedar vacía pero aún\n",
        "              pass #pueden llegar clientes.\n",
        "          else:\n",
        "            tf = ahora + np.random.exponential(ts) #Si es que aún hay gente en la cola, se crea un evento salida para los que están ahí.\n",
        "            s = (tf, 'salida')\n",
        "            h.insert(s)\n",
        "        \n",
        "    return (acum_largo_cola/maxclientes,acum_tiempo_en_sistema/maxclientes,bitacora)"
      ],
      "execution_count": 126,
      "outputs": []
    },
    {
      "cell_type": "code",
      "metadata": {
        "id": "pwiJwTPwnDgu",
        "colab_type": "code",
        "colab": {
          "base_uri": "https://localhost:8080/",
          "height": 35
        },
        "outputId": "98f9b47d-4f2d-4fb1-d67a-618c0e820208"
      },
      "source": [
        "(cola,demora,bitacora)=simula(10,100,75,debug=True)\n",
        "print(\"Largo promedio de la cola=\",cola,\" Tiempo promedio en el sistema=\",demora)"
      ],
      "execution_count": 127,
      "outputs": [
        {
          "output_type": "stream",
          "text": [
            "Largo promedio de la cola= 1.9  Tiempo promedio en el sistema= 138.02762271192722\n"
          ],
          "name": "stdout"
        }
      ]
    },
    {
      "cell_type": "code",
      "metadata": {
        "id": "HJV9Nj56nJAN",
        "colab_type": "code",
        "colab": {
          "base_uri": "https://localhost:8080/",
          "height": 364
        },
        "outputId": "15a4c274-a0ba-4388-c633-485fee55ad1e"
      },
      "source": [
        "print_list(bitacora)"
      ],
      "execution_count": 128,
      "outputs": [
        {
          "output_type": "stream",
          "text": [
            "T = 21.25986576184801 Tipo de evento: llegada\n",
            "T = 78.83677538497456 Tipo de evento: llegada\n",
            "T = 94.24603167524747 Tipo de evento: salida\n",
            "T = 207.7973648436669 Tipo de evento: salida\n",
            "T = 232.71542283099382 Tipo de evento: llegada\n",
            "T = 256.5855663702635 Tipo de evento: salida\n",
            "T = 265.07595569718336 Tipo de evento: llegada\n",
            "T = 386.489172340086 Tipo de evento: salida\n",
            "T = 582.4168679105603 Tipo de evento: llegada\n",
            "T = 626.7051068662289 Tipo de evento: llegada\n",
            "T = 696.2190483450556 Tipo de evento: llegada\n",
            "T = 738.9366623619304 Tipo de evento: salida\n",
            "T = 811.2505419244258 Tipo de evento: llegada\n",
            "T = 832.4793149848136 Tipo de evento: salida\n",
            "T = 857.4938981550002 Tipo de evento: llegada\n",
            "T = 894.2570294009206 Tipo de evento: salida\n",
            "T = 895.296837936396 Tipo de evento: salida\n",
            "T = 927.427158306087 Tipo de evento: llegada\n",
            "T = 1006.4499708056504 Tipo de evento: salida\n",
            "T = 1167.1389175826548 Tipo de evento: salida\n"
          ],
          "name": "stdout"
        }
      ]
    },
    {
      "cell_type": "markdown",
      "metadata": {
        "id": "rEk5gZZ6GkPt",
        "colab_type": "text"
      },
      "source": [
        "## Parte 2\n"
      ]
    },
    {
      "cell_type": "markdown",
      "metadata": {
        "id": "khLsVnnXGmeq",
        "colab_type": "text"
      },
      "source": [
        "Para esta parte, se debe modificar la función \"simula\" (ahora llamada \"simula2\") para que acepte más tipos de eventos, haciendo la simulación más realista. Para no tener una lista tan grande de eventos, se agrega el evento genérico \"pasa a la cola\", que es cuando el cliente dejó de comprar y pasa a la cola para pagar. Para saber cuánto tiempo se demora en comprar, se introduce la variable $t_c$, la que representa el tiempo promedio de compras. De igual forma que se modelo para las llegadas y salidas de los clientes, el tiempo de compra se modela según una exponencial con el tiempo promedio de parámetro. \n",
        "\n",
        "Así, con toda esta información se puede modificar la simulación de la forma pedida, utilizando de base el código de la parte 1, el cual está hecho para poder usar el Heap de la forma más óptima para este caso. En sí, se modifica de tal manera en que, cuando se procesa una llegada, de inmediato se le genera un tiempo de compra y se crea su evento \"pasa a la cola\" correspondiente; el cual se introduce en el Heap. Junto con esto los tiempos que van a la cola seránn los del evento \"pasa a la cola\" ya que es aquí cuando efectivamente pasan a la cola para pagar los clientes. El resto se mantiene igual: si es que es un evento llegada y aún no se llega al máximo de clientes, se crea otro evento de llegada. Si es que es un evento de salida, se desencola su respectivo tiempo de la cola, aunque ahora sea el tiempo de compra en vez del tiempo de llegada respectivo; junto con que se crean eventos de salida para aquellos clientes que sigan en la fila para pagar. Si es que la cola está vacía, entonces se revisa el siguiente evento; pero si está vacía y se llegó al máximo de clientes, se termina la simulación. También se mantiene intacto el proceso 'debug = True'. \n",
        "\n",
        "Además, como se pide el tiempo promedio total del sistema, se agregan las variables 'tllegada' y 'tsalida' para ir sumando todos los tiempos de llegada y de salida. La resta de estos tiempos totales, dividida por la cantidad de clientes, dará el tiempo promedio total que han estado los compradores en la tienda, ya que así se evita restar el tiempo de salida al tiempo de compra; que es lo que se hubiese calculado de haber mantenido el procedimiento que se usaba con la variable 'acum_en_el_sistema' de la parte 1.\n",
        "\n",
        "Al final, la función retorna exactamente lo mismo que la primera, sólo que ahora consta de más procesos entre medio necesarios para tener una simulación más realista. "
      ]
    },
    {
      "cell_type": "code",
      "metadata": {
        "id": "LtSH9GGmMTLV",
        "colab_type": "code",
        "colab": {}
      },
      "source": [
        "import numpy as np\n",
        "class Cola:\n",
        "    def __init__(self):\n",
        "        self.q=[]\n",
        "    def enq(self,x):\n",
        "        self.q.insert(0,x)\n",
        "    def deq(self):\n",
        "        assert len(self.q)>0\n",
        "        return self.q.pop()\n",
        "    def is_empty(self):\n",
        "        return len(self.q)==0\n",
        "    def size(self):\n",
        "        return len(self.q)\n",
        "\n",
        "def print_list(L):\n",
        "    for x in L:\n",
        "        print(x)\n",
        "\n",
        "def trepar(a,j):                            #Como los elementos del arreglo ahora son tuplas y el primer elemento de esta tupla define su prioridad,\n",
        "  while j>=1 and a[j][0]<a[(j-1)//2][0]:    #son estos elementos los que deben ser comparados. \n",
        "    (a[j],a[(j-1)//2]) = (a[(j-1)//2],a[j]) #Se cambian los elementos enteros porque su prioridad no cambia el tipo de evento que es.\n",
        "    j = (j-1)//2                            #Las comparaciones quedan al revés porque a menor tiempo, mayor prioridad.\n",
        "\n",
        "def hundir(a,j,n):\n",
        "  while 2*j+1<n:\n",
        "    k=2*j+1\n",
        "    if k+1<n and a[k+1][0]<a[k][0]: #Trabajando con el tiempo de las tuplas.\n",
        "      k+=1\n",
        "    if a[j][0]<=a[k][0]:\n",
        "      break\n",
        "    (a[j],a[k]) = (a[k],a[j])\n",
        "    j=k\n",
        "\n",
        "class Heap:\n",
        "  def __init__(self,maxn=100):\n",
        "    self.a = np.zeros(maxn, dtype = tuple) #Se modifica el arreglo para trabajar con las tuplas pedidas.\n",
        "    self.n = 0\n",
        "  def insert(self,x): #Asumiendo que se inserta otra tupla.\n",
        "    assert self.n<len(self.a)\n",
        "    self.a[self.n]=x\n",
        "    trepar(self.a,self.n)\n",
        "    self.n += 1\n",
        "  def extract_max(self):\n",
        "    x = self.a[0]\n",
        "    self.n -= 1\n",
        "    self.a[0]=self.a[self.n]\n",
        "    hundir(self.a,0,self.n)\n",
        "    return x\n",
        "  def imprimir(self):\n",
        "    print(self.a[0:self.n])\n",
        "\n",
        "def simula2(maxclientes,ta,ts,tc,debug=False):\n",
        "    # simula el paso de maxclientes clientes por el sistema\n",
        "    # ta = tiempo promedio entre llegadas (arrivals)\n",
        "    # ts = tiempo promedio de servicio\n",
        "    # tc = tiempo promedio de compra\n",
        "    # maxclientes = número maximo de clientes para la simulacion\n",
        "    # debug = True => genera bitácora y usa secuencia aleatoria reproducible\n",
        "    # retorna (largo promedio de la cola, tiempo promedio en el sistema)\n",
        "    if debug:\n",
        "        np.random.seed(1234)\n",
        "\n",
        "    ahora=0 # tiempo simulado\n",
        "    nclientes=0 # número de clientes que han llegado\n",
        "    c=Cola() #La cola que tendrá los tiempos de llegada y salida a lo largo del proceso.\n",
        "    h = Heap() #Se agrega la cola de prioridad pedida.\n",
        "    acum_largo_cola=0 # acumula largo de la cola para sacar promedio al final\n",
        "    bitacora=[] # En caso que se pida debug\n",
        "    tllegada = 0 #Variable para sumar todos los tiempos de llegada.\n",
        "    tsalida = 0 #Variable para sumar todos los tiempos de salida.\n",
        "\n",
        "    ti = np.random.exponential(ta) #Siguiendo el hint, se inserta el primer evento de llegada fuera del while. \n",
        "    h.insert((ti, 'llegada'))      \n",
        "\n",
        "    while h.n != 0:         #Se verifica que hayan eventos en el heap.\n",
        "        k = h.extract_max() #Se extrae el máximo del heap, es decir, el evento más cercano a ocurrir.\n",
        "        ahora = k[0]        #El tiempo actual es el tiempo de la tupla que se esté revisando.\n",
        "\n",
        "        if debug:\n",
        "            bitacora.append('T = '+str(ahora)+' Tipo de evento: '+k[1]) #Bitácora utilizando lo dicho en el foro por el profesor,\n",
        "                                                                        #en caso de que se pida.\n",
        "        if k[1] == 'llegada': \n",
        "          nclientes += 1    #Llegó un cliente.\n",
        "          tllegada += ahora #Se agrega el tiempo de llegada al total de tiempos de llegada. \n",
        "\n",
        "          tco = ahora + np.random.exponential(tc) #Para cada cliente que llegue, se crea su evento de compra. Se define como 'pasa a la cola' porque\n",
        "          co = (tco, 'pasa a la cola')            #en este tiempo es en que termina de comprar y pasa a la cola para pagar.\n",
        "          h.insert(co)\n",
        "\n",
        "          if nclientes < maxclientes: #Si aun pueden haber más clientes, se genera una tupla de llegada para el siguiente cliente.\n",
        "            ti = ahora + np.random.exponential(ta)\n",
        "            e = (ti, 'llegada')\n",
        "            h.insert(e)\n",
        "\n",
        "        elif k[1] == 'pasa a la cola':\n",
        "          c.enq(ahora) #Se guarda el tiempo actual en la cola y se agrega el tamaño actual de ésta a la variable acum_largo_cola.\n",
        "          acum_largo_cola+=c.size()\n",
        "\n",
        "          if c.size() == 1: #Si es que hay sólo un elemento en la cola, sólo hay una persona en ésta; por lo que se atiende de inmediato.\n",
        "            tf = ahora + np.random.exponential(ts) \n",
        "            s = (tf, 'salida') #Al atender al cliente, se genera la tupla con su tiempo de salida y con el evento 'salida'.\n",
        "            h.insert(s) \n",
        "\n",
        "        else:\n",
        "          tsalida += ahora #Se agrega el tiempo de llegada al total de tiempos de llegada.\n",
        "          c.deq()          #Como es una salida, se debe quitar al cliente de la cola (ya pagó).\n",
        "          \n",
        "          if not c.is_empty(): #Mientras la cola no esté vacía, se crearán eventos de salidas para los clientes que queden en ésta.\n",
        "            tf = ahora + np.random.exponential(ts)\n",
        "            s = (tf, 'salida')\n",
        "            h.insert(s)\n",
        "       \n",
        "    tp = abs(tllegada - tsalida) #Se toma la resta positiva entre los tiempos totales de llegada y salida para sacar el promedio del sistema.\n",
        "    return (acum_largo_cola/maxclientes,tp/maxclientes,bitacora)"
      ],
      "execution_count": 129,
      "outputs": []
    },
    {
      "cell_type": "code",
      "metadata": {
        "id": "cp6WTu6PfCPG",
        "colab_type": "code",
        "colab": {
          "base_uri": "https://localhost:8080/",
          "height": 35
        },
        "outputId": "9ae985e0-f883-4f53-8950-494af211d4c6"
      },
      "source": [
        "(cola,demora,bitacora2)=simula2(10,100,75,300,debug=True)\n",
        "print(\"Largo promedio de la cola=\",cola,\" Tiempo promedio en el sistema=\",demora)"
      ],
      "execution_count": 133,
      "outputs": [
        {
          "output_type": "stream",
          "text": [
            "Largo promedio de la cola= 1.5  Tiempo promedio en el sistema= 417.54688117851913\n"
          ],
          "name": "stdout"
        }
      ]
    },
    {
      "cell_type": "code",
      "metadata": {
        "id": "9e8jZ_mEgDJL",
        "colab_type": "code",
        "colab": {
          "base_uri": "https://localhost:8080/",
          "height": 537
        },
        "outputId": "0ad8c87f-0d5a-4eff-e340-a0accd727767"
      },
      "source": [
        "print_list(bitacora2)"
      ],
      "execution_count": 134,
      "outputs": [
        {
          "output_type": "stream",
          "text": [
            "T = 21.25986576184801 Tipo de evento: llegada\n",
            "T = 78.83677538497456 Tipo de evento: llegada\n",
            "T = 230.23855294286716 Tipo de evento: llegada\n",
            "T = 262.5990858090567 Tipo de evento: llegada\n",
            "T = 313.20452941544585 Tipo de evento: pasa a la cola\n",
            "T = 325.719127099946 Tipo de evento: pasa a la cola\n",
            "T = 469.724323866816 Tipo de evento: salida\n",
            "T = 502.9405030835674 Tipo de evento: salida\n",
            "T = 540.4727177230324 Tipo de evento: pasa a la cola\n",
            "T = 579.9399980224337 Tipo de evento: llegada\n",
            "T = 592.6081738321524 Tipo de evento: salida\n",
            "T = 704.6635348529446 Tipo de evento: llegada\n",
            "T = 748.2519523806671 Tipo de evento: pasa a la cola\n",
            "T = 787.0338207410872 Tipo de evento: llegada\n",
            "T = 791.1930548829886 Tipo de evento: pasa a la cola\n",
            "T = 800.7018974939823 Tipo de evento: salida\n",
            "T = 843.3936035446682 Tipo de evento: pasa a la cola\n",
            "T = 925.0344787605443 Tipo de evento: pasa a la cola\n",
            "T = 935.2379979000931 Tipo de evento: llegada\n",
            "T = 961.3908442709866 Tipo de evento: salida\n",
            "T = 967.268877737664 Tipo de evento: salida\n",
            "T = 1001.7816684248819 Tipo de evento: salida\n",
            "T = 1030.792148840738 Tipo de evento: llegada\n",
            "T = 1071.4232208888677 Tipo de evento: pasa a la cola\n",
            "T = 1109.3862775258685 Tipo de evento: salida\n",
            "T = 1136.1688937550139 Tipo de evento: llegada\n",
            "T = 1602.5545995296388 Tipo de evento: pasa a la cola\n",
            "T = 1631.1311377745828 Tipo de evento: salida\n",
            "T = 1842.338925832466 Tipo de evento: pasa a la cola\n",
            "T = 1905.3057817857464 Tipo de evento: salida\n"
          ],
          "name": "stdout"
        }
      ]
    }
  ]
}