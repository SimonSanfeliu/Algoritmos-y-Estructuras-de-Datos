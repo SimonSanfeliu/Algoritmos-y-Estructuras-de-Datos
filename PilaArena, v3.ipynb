{
  "nbformat": 4,
  "nbformat_minor": 0,
  "metadata": {
    "colab": {
      "name": "PilaArena.ipynb",
      "provenance": [],
      "authorship_tag": "ABX9TyOIycH7kCFKKTZO27m3BhaY",
      "include_colab_link": true
    },
    "kernelspec": {
      "name": "python3",
      "display_name": "Python 3"
    }
  },
  "cells": [
    {
      "cell_type": "markdown",
      "metadata": {
        "id": "view-in-github",
        "colab_type": "text"
      },
      "source": [
        "<a href=\"https://colab.research.google.com/github/SimonSanfeliu/Algoritmos-y-Estructuras-de-Datos/blob/master/PilaArena%2C%20v3.ipynb\" target=\"_parent\"><img src=\"https://colab.research.google.com/assets/colab-badge.svg\" alt=\"Open In Colab\"/></a>"
      ]
    },
    {
      "cell_type": "code",
      "metadata": {
        "id": "7QK24JyAbMiw",
        "colab_type": "code",
        "colab": {}
      },
      "source": [
        "import numpy as np \n",
        "import matplotlib.pyplot as plt\n",
        "import math\n",
        "\n",
        "#Función para crear el tablero\n",
        "def tablero(N):\n",
        "    r = int(math.sqrt((N+1)//math.pi))\n",
        "    m = int(1.3*r)\n",
        "    T = np.zeros((m,m))\n",
        "    if m == 1:\n",
        "        T[0][0] == N\n",
        "    if m%2 == 0:\n",
        "        n = m + 1\n",
        "        t = n - int(round(n/2)) - 1\n",
        "        T[t][t] = N\n",
        "        return T\n",
        "    else:\n",
        "        t = m - int(round(m/2)) - 1\n",
        "        T[t][t] = N\n",
        "        return T\n",
        "        \n",
        "#Función para los granos para la primera parte\n",
        "def pilaDeArena(N):\n",
        "    A = tablero(N)\n",
        "    k = N\n",
        "    contador = 0\n",
        "    while k > 0:\n",
        "        k -= 4\n",
        "        for i in range(0,len(A[0])):\n",
        "            for j in range(0,len(A[0])):\n",
        "                while A[i][j] >= 4:\n",
        "                    A[i][j] -= 4\n",
        "                    if i+1 > len(A[0])-1:\n",
        "                      if j+1 > len(A[0])-1:\n",
        "                        A[i-1][j] += 1\n",
        "                        A[i][j-1] += 1\n",
        "                        contador += 1\n",
        "                      elif j-1 < 0:\n",
        "                        A[i-1][j] += 1\n",
        "                        A[i][j+1] += 1\n",
        "                        contador += 1\n",
        "                      else:\n",
        "                        A[i-1][j] += 1\n",
        "                        A[i][j-1] += 1\n",
        "                        A[i][j+1] += 1\n",
        "                        contador += 1\n",
        "                    elif i-1 < 0:\n",
        "                      if j+1 > len(A[0])-1:\n",
        "                        A[i+1][j] += 1\n",
        "                        A[i][j-1] += 1\n",
        "                        contador += 1\n",
        "                      elif j-1 < 0:\n",
        "                        A[i+1][j] += 1\n",
        "                        A[i][j+1] += 1\n",
        "                        contador += 1\n",
        "                      else:\n",
        "                        A[i+1][j] += 1\n",
        "                        A[i][j-1] += 1\n",
        "                        A[i][j+1] += 1\n",
        "                        contador += 1\n",
        "                    else:\n",
        "                      if j+1 > len(A[0])-1:\n",
        "                        A[i+1][j] += 1\n",
        "                        A[i-1][j] += 1\n",
        "                        A[i][j-1] += 1\n",
        "                        contador += 1\n",
        "                      elif j-1 < 0:\n",
        "                        A[i+1][j] += 1\n",
        "                        A[i-1][j] += 1\n",
        "                        A[i][j+1] += 1\n",
        "                        contador += 1\n",
        "                      else:\n",
        "                        A[i+1][j] += 1\n",
        "                        A[i-1][j] += 1\n",
        "                        A[i][j-1] += 1\n",
        "                        A[i][j+1] += 1\n",
        "                        contador += 1\n",
        "    print(contador)\n",
        "    return A\n",
        "\n",
        "#Función para los granos para la segunda parte.\n",
        "def pilaDeArena2(N):\n",
        "    A = tablero(N)\n",
        "    k = N\n",
        "    contador = 0\n",
        "    while k > 0:\n",
        "        k -= 4\n",
        "        for i in range(0,len(A[0])):\n",
        "            for j in range(0,len(A[0])):\n",
        "                while A[i][j] >= 4:\n",
        "                    n = A[i][j] - A[i][j]%4\n",
        "                    A[i][j] -= n\n",
        "                    if i+1 > len(A[0])-1:\n",
        "                      if j+1 > len(A[0])-1:\n",
        "                        A[i-1][j] += n//4\n",
        "                        A[i][j-1] += n//4\n",
        "                        contador += 1\n",
        "                      elif j-1 < 0:\n",
        "                        A[i-1][j] += n//4\n",
        "                        A[i][j+1] += n//4\n",
        "                        contador += 1\n",
        "                      else:\n",
        "                        A[i-1][j] += n//4\n",
        "                        A[i][j-1] += n//4\n",
        "                        A[i][j+1] += n//4\n",
        "                        contador += 1\n",
        "                    elif i-1 < 0:\n",
        "                      if j+1 > len(A[0])-1:\n",
        "                        A[i+1][j] += n//4\n",
        "                        A[i][j-1] += n//4\n",
        "                        contador += 1\n",
        "                      elif j-1 < 0:\n",
        "                        A[i+1][j] += n//4\n",
        "                        A[i][j+1] += n//4\n",
        "                        contador += 1\n",
        "                      else:\n",
        "                        A[i+1][j] += n//4\n",
        "                        A[i][j-1] += n//4\n",
        "                        A[i][j+1] += n//4\n",
        "                        contador += 1\n",
        "                    else:\n",
        "                      if j+1 > len(A[0])-1:\n",
        "                        A[i+1][j] += n//4\n",
        "                        A[i-1][j] += n//4\n",
        "                        A[i][j-1] += n//4\n",
        "                        contador += 1\n",
        "                      elif j-1 < 0:\n",
        "                        A[i+1][j] += n//4\n",
        "                        A[i-1][j] += n//4\n",
        "                        A[i][j+1] += n//4\n",
        "                        contador += 1\n",
        "                      else:\n",
        "                        A[i+1][j] += n//4\n",
        "                        A[i-1][j] += n//4\n",
        "                        A[i][j-1] += n//4\n",
        "                        A[i][j+1] += n//4\n",
        "                        contador += 1\n",
        "    print(contador)\n",
        "    return A"
      ],
      "execution_count": 0,
      "outputs": []
    },
    {
      "cell_type": "code",
      "metadata": {
        "id": "E1LizwgFbY-G",
        "colab_type": "code",
        "outputId": "545f2a37-50af-4a50-f0ce-c5b4d620ae44",
        "colab": {
          "base_uri": "https://localhost:8080/",
          "height": 293
        }
      },
      "source": [
        "plt.matshow(pilaDeArena2(20000))\n",
        "plt.show()"
      ],
      "execution_count": 20,
      "outputs": [
        {
          "output_type": "stream",
          "text": [
            "4745185\n"
          ],
          "name": "stdout"
        },
        {
          "output_type": "display_data",
          "data": {
            "image/png": "[encoded data removed]",
            "text/plain": [
              "<Figure size 288x288 with 1 Axes>"
            ]
          },
          "metadata": {
            "tags": []
          }
        }
      ]
    },
    {
      "cell_type": "code",
      "metadata": {
        "id": "P8iArtlsV6V6",
        "colab_type": "code",
        "colab": {}
      },
      "source": [
        ""
      ],
      "execution_count": 0,
      "outputs": []
    }
  ]
}